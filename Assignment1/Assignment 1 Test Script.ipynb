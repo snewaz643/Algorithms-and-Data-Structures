{
 "cells": [
  {
   "cell_type": "markdown",
   "metadata": {},
   "source": [
    "# Assignment 1 Test Script\n",
    "Below is a dummy program which calls the simple provided tests."
   ]
  },
  {
   "cell_type": "code",
   "execution_count": 4,
   "metadata": {},
   "outputs": [
    {
     "name": "stderr",
     "output_type": "stream",
     "text": [
      "Testing with script: basic_ass1_tests.sh.\n",
      "Command: ['chmod', '777', 'basic_ass1_tests.sh']\n",
      "Command: ['/bin/bash', 'basic_ass1_tests.sh', '/tmp/tmp8e_ge7_j.out']\n"
     ]
    },
    {
     "name": "stdout",
     "output_type": "stream",
     "text": [
      "gcc  -fsanitize=address -Wall -g -c -o dict1.o dict1.c\n",
      "gcc  -fsanitize=address -Wall -g -c -o bstllist.o bstllist.c\n",
      "gcc  -fsanitize=address -Wall -g -c -o trips.o trips.c\n",
      "gcc -fsanitize=address -Wall -g -o dict1 dict1.o bstllist.o trips.o\n",
      "gcc  -fsanitize=address -Wall -g -c -o dict2.o dict2.c\n",
      "gcc  -fsanitize=address -Wall -g -o dict2 dict2.o bstllist.o trips.o\n",
      "[Test Script] Running test 1\n",
      "[Test Script] Test 1 Passed\n",
      "[Test Script] Running test 2\n",
      "[Test Script] Test 2 Passed\n",
      "[Test Script] Running test 3\n",
      "[Test Script] Test 3 Passed\n",
      "[Test Script] Running test 4\n",
      "[Test Script] Test 4 Passed\n",
      "[Test Script] Running test 5\n",
      "[Test Script] Test 5 Passed\n",
      "[Test Script] Running test 6\n",
      "[Test Script] Test 6 Passed\n",
      "[Test Script] Running test 7\n",
      "[Test Script] Test 7 Passed\n",
      "[Test Script] Running test 8\n",
      "[Test Script] Test 8 Passed\n",
      "[Test Script] Running test 9\n",
      "[Test Script] Test 9 Passed\n",
      "[Test Script] Running test 10\n",
      "[Test Script] Test 10 Passed\n",
      "Passed Tests 10/10\n"
     ]
    }
   ],
   "source": [
    "//%test_script:basic_ass1_tests.sh\n",
    "\n",
    "int main(){\n",
    "    return 0;\n",
    "}"
   ]
  },
  {
   "cell_type": "code",
   "execution_count": null,
   "metadata": {},
   "outputs": [],
   "source": []
  }
 ],
 "metadata": {
  "kernelspec": {
   "display_name": "C",
   "language": "c",
   "name": "c"
  },
  "language_info": {
   "file_extension": ".c",
   "mimetype": "text/plain",
   "name": "c"
  }
 },
 "nbformat": 4,
 "nbformat_minor": 4
}
